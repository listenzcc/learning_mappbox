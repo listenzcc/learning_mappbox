{
 "cells": [
  {
   "cell_type": "code",
   "execution_count": 66,
   "metadata": {},
   "outputs": [],
   "source": [
    "import numpy as np\n",
    "import pandas as pd\n",
    "import matplotlib.pyplot as plt"
   ]
  },
  {
   "cell_type": "code",
   "execution_count": 72,
   "metadata": {},
   "outputs": [
    {
     "name": "stdout",
     "output_type": "stream",
     "text": [
      "Original DataFrame\n",
      "------------------\n",
      "   name  physics  chemistry  algebra\n",
      "0  Somu       68         84       78\n",
      "1  Kiku       74         56       88\n",
      "2  Amol       77         73       82\n",
      "3  Lini       78         69       87\n",
      "\n",
      "\n",
      "New row added to DataFrame\n",
      "--------------------------\n",
      "   name  physics  chemistry  algebra\n",
      "0  Somu       68         84       78\n",
      "1  Kiku       74         56       88\n",
      "2  Amol       77         73       82\n",
      "3  Lini       78         69       87\n",
      "4   Geo       87         92       97\n"
     ]
    }
   ],
   "source": [
    "data = {'name': ['Somu', 'Kiku', 'Amol', 'Lini'],\n",
    "        'physics': [68, 74, 77, 78],\n",
    "        'chemistry': [84, 56, 73, 69],\n",
    "        'algebra': [78, 88, 82, 87]}\n",
    "\n",
    "#create dataframe\n",
    "df_marks = pd.DataFrame(data)\n",
    "print('Original DataFrame\\n------------------')\n",
    "print(df_marks)\n",
    "\n",
    "new_row = {'name':'Geo', 'physics':87, 'chemistry':92, 'algebra':97}\n",
    "#append row to the dataframe\n",
    "df_marks = df_marks.append(new_row, ignore_index=True)\n",
    "\n",
    "print('\\n\\nNew row added to DataFrame\\n--------------------------')\n",
    "print(df_marks)"
   ]
  },
  {
   "cell_type": "code",
   "execution_count": 73,
   "metadata": {},
   "outputs": [
    {
     "name": "stdout",
     "output_type": "stream",
     "text": [
      "Original DataFrame\n",
      "------------------\n",
      "   name  physics  chemistry\n",
      "0  Amol       77         73\n",
      "1  Lini       78         85\n",
      "\n",
      "\n",
      "New row added to DataFrame\n",
      "--------------------------\n",
      "   name  physics  chemistry\n",
      "0  Amol       77         73\n",
      "1  Lini       78         85\n",
      "x   Geo       87         92\n"
     ]
    }
   ],
   "source": [
    "data = {'name': ['Amol', 'Lini'],\n",
    "        'physics': [77, 78],\n",
    "        'chemistry': [73, 85]}\n",
    "\n",
    "#create dataframe\n",
    "df_marks = pd.DataFrame(data)\n",
    "print('Original DataFrame\\n------------------')\n",
    "print(df_marks)\n",
    "\n",
    "new_row = pd.Series(data={'name':'Geo', 'physics':87, 'chemistry':92}, name='x')\n",
    "#append row to the dataframe\n",
    "df_marks = df_marks.append(new_row, ignore_index=False)\n",
    "\n",
    "print('\\n\\nNew row added to DataFrame\\n--------------------------')\n",
    "print(df_marks)"
   ]
  },
  {
   "cell_type": "code",
   "execution_count": 74,
   "metadata": {},
   "outputs": [
    {
     "data": {
      "text/html": [
       "<div>\n",
       "<style scoped>\n",
       "    .dataframe tbody tr th:only-of-type {\n",
       "        vertical-align: middle;\n",
       "    }\n",
       "\n",
       "    .dataframe tbody tr th {\n",
       "        vertical-align: top;\n",
       "    }\n",
       "\n",
       "    .dataframe thead th {\n",
       "        text-align: right;\n",
       "    }\n",
       "</style>\n",
       "<table border=\"1\" class=\"dataframe\">\n",
       "  <thead>\n",
       "    <tr style=\"text-align: right;\">\n",
       "      <th></th>\n",
       "      <th>name</th>\n",
       "      <th>physics</th>\n",
       "      <th>chemistry</th>\n",
       "    </tr>\n",
       "  </thead>\n",
       "  <tbody>\n",
       "    <tr>\n",
       "      <th>0</th>\n",
       "      <td>Amol</td>\n",
       "      <td>77</td>\n",
       "      <td>73</td>\n",
       "    </tr>\n",
       "    <tr>\n",
       "      <th>1</th>\n",
       "      <td>Lini</td>\n",
       "      <td>78</td>\n",
       "      <td>85</td>\n",
       "    </tr>\n",
       "    <tr>\n",
       "      <th>x</th>\n",
       "      <td>Geo</td>\n",
       "      <td>87</td>\n",
       "      <td>92</td>\n",
       "    </tr>\n",
       "  </tbody>\n",
       "</table>\n",
       "</div>"
      ],
      "text/plain": [
       "   name  physics  chemistry\n",
       "0  Amol       77         73\n",
       "1  Lini       78         85\n",
       "x   Geo       87         92"
      ]
     },
     "execution_count": 74,
     "metadata": {},
     "output_type": "execute_result"
    }
   ],
   "source": [
    "df_marks"
   ]
  },
  {
   "cell_type": "code",
   "execution_count": 78,
   "metadata": {},
   "outputs": [
    {
     "data": {
      "text/plain": [
       "<matplotlib.axes._subplots.AxesSubplot at 0x24144044fc8>"
      ]
     },
     "execution_count": 78,
     "metadata": {},
     "output_type": "execute_result"
    },
    {
     "data": {
      "image/png": "[encoded data removed]",
      "text/plain": [
       "<Figure size 432x288 with 1 Axes>"
      ]
     },
     "metadata": {
      "needs_background": "light"
     },
     "output_type": "display_data"
    }
   ],
   "source": [
    "df_marks.plot(use_index=True)"
   ]
  },
  {
   "cell_type": "code",
   "execution_count": 79,
   "metadata": {},
   "outputs": [
    {
     "data": {
      "text/html": [
       "<div>\n",
       "<style scoped>\n",
       "    .dataframe tbody tr th:only-of-type {\n",
       "        vertical-align: middle;\n",
       "    }\n",
       "\n",
       "    .dataframe tbody tr th {\n",
       "        vertical-align: top;\n",
       "    }\n",
       "\n",
       "    .dataframe thead th {\n",
       "        text-align: right;\n",
       "    }\n",
       "</style>\n",
       "<table border=\"1\" class=\"dataframe\">\n",
       "  <thead>\n",
       "    <tr style=\"text-align: right;\">\n",
       "      <th></th>\n",
       "      <th>name</th>\n",
       "      <th>physics</th>\n",
       "      <th>chemistry</th>\n",
       "    </tr>\n",
       "  </thead>\n",
       "  <tbody>\n",
       "    <tr>\n",
       "      <th>0</th>\n",
       "      <td>Amol</td>\n",
       "      <td>77</td>\n",
       "      <td>73</td>\n",
       "    </tr>\n",
       "    <tr>\n",
       "      <th>1</th>\n",
       "      <td>Lini</td>\n",
       "      <td>78</td>\n",
       "      <td>85</td>\n",
       "    </tr>\n",
       "    <tr>\n",
       "      <th>x</th>\n",
       "      <td>Geo</td>\n",
       "      <td>87</td>\n",
       "      <td>92</td>\n",
       "    </tr>\n",
       "  </tbody>\n",
       "</table>\n",
       "</div>"
      ],
      "text/plain": [
       "   name  physics  chemistry\n",
       "0  Amol       77         73\n",
       "1  Lini       78         85\n",
       "x   Geo       87         92"
      ]
     },
     "execution_count": 79,
     "metadata": {},
     "output_type": "execute_result"
    }
   ],
   "source": [
    "df_marks"
   ]
  },
  {
   "cell_type": "code",
   "execution_count": 81,
   "metadata": {},
   "outputs": [
    {
     "data": {
      "text/plain": [
       "'<table border=\"1\" class=\"dataframe\">\\n  <thead>\\n    <tr style=\"text-align: right;\">\\n      <th></th>\\n      <th>name</th>\\n      <th>physics</th>\\n      <th>chemistry</th>\\n    </tr>\\n  </thead>\\n  <tbody>\\n    <tr>\\n      <th>0</th>\\n      <td>Amol</td>\\n      <td>77</td>\\n      <td>73</td>\\n    </tr>\\n    <tr>\\n      <th>1</th>\\n      <td>Lini</td>\\n      <td>78</td>\\n      <td>85</td>\\n    </tr>\\n    <tr>\\n      <th>x</th>\\n      <td>Geo</td>\\n      <td>87</td>\\n      <td>92</td>\\n    </tr>\\n  </tbody>\\n</table>'"
      ]
     },
     "execution_count": 81,
     "metadata": {},
     "output_type": "execute_result"
    }
   ],
   "source": [
    "df_marks.to_html()"
   ]
  },
  {
   "cell_type": "code",
   "execution_count": 82,
   "metadata": {},
   "outputs": [
    {
     "data": {
      "text/plain": [
       "rec.array([(0, 'Amol', 77, 73), (1, 'Lini', 78, 85), ('x', 'Geo', 87, 92)],\n",
       "          dtype=[('index', 'O'), ('name', 'O'), ('physics', '<i8'), ('chemistry', '<i8')])"
      ]
     },
     "execution_count": 82,
     "metadata": {},
     "output_type": "execute_result"
    }
   ],
   "source": [
    "df_marks.to_records()"
   ]
  },
  {
   "cell_type": "code",
   "execution_count": null,
   "metadata": {},
   "outputs": [],
   "source": []
  }
 ],
 "metadata": {
  "kernelspec": {
   "display_name": "Python 3",
   "language": "python",
   "name": "python3"
  },
  "language_info": {
   "codemirror_mode": {
    "name": "ipython",
    "version": 3
   },
   "file_extension": ".py",
   "mimetype": "text/x-python",
   "name": "python",
   "nbconvert_exporter": "python",
   "pygments_lexer": "ipython3",
   "version": "3.7.4"
  }
 },
 "nbformat": 4,
 "nbformat_minor": 4
}
